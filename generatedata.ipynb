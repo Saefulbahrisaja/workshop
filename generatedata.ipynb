{
 "cells": [
  {
   "cell_type": "code",
   "execution_count": 1,
   "metadata": {},
   "outputs": [],
   "source": [
    "import pandas as pd\n",
    "import numpy as np\n",
    "from datetime import datetime, timedelta\n",
    "\n",
    "# Fungsi untuk menghasilkan data secara acak\n",
    "def generate_data(start_date, num_days, num_records):\n",
    "    date_list = [start_date + timedelta(days=x) for x in range(num_days)]\n",
    "    data = []\n",
    "    for date in date_list:\n",
    "        for _ in range(num_records):\n",
    "            id_transaksi_detail = np.random.randint(1000, 9999)\n",
    "            kode_transaksi = f\"TRX{np.random.randint(100000, 999999)}\"\n",
    "            tgl_transaksi = date.strftime('%Y-%m-%d')\n",
    "            kode_produk = f\"PRD{np.random.randint(1000, 9999)}\"\n",
    "            nama_produk = f\"Produk{np.random.randint(1, 100)}\"\n",
    "            harga = np.random.randint(10000, 100000)\n",
    "            jumlah = np.random.randint(1, 10)\n",
    "            data.append([id_transaksi_detail, kode_transaksi, tgl_transaksi, kode_produk, nama_produk, harga, jumlah])\n",
    "    return pd.DataFrame(data, columns=['id_transaksi_detail', 'kode_transaksi', 'tgl_transaksi', 'kode_produk', 'nama_produk', 'harga', 'jumlah'])\n",
    "\n",
    "# Menghasilkan data untuk 2 tahun (730 hari)\n",
    "start_date = datetime.now() - timedelta(days=730)\n",
    "generated_data = generate_data(start_date, 730, 10)  # Misalkan setiap hari ada 10 transaksi\n",
    "\n",
    "# Menyimpan data ke CSV\n",
    "generated_data.to_csv('data_set.csv', index=False)\n"
   ]
  }
 ],
 "metadata": {
  "kernelspec": {
   "display_name": ".venv",
   "language": "python",
   "name": "python3"
  },
  "language_info": {
   "codemirror_mode": {
    "name": "ipython",
    "version": 3
   },
   "file_extension": ".py",
   "mimetype": "text/x-python",
   "name": "python",
   "nbconvert_exporter": "python",
   "pygments_lexer": "ipython3",
   "version": "3.11.9"
  }
 },
 "nbformat": 4,
 "nbformat_minor": 2
}
